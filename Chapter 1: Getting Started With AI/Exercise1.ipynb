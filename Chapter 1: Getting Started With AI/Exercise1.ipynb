{
 "cells": [
  {
   "cell_type": "markdown",
   "id": "30eef7e9-a27f-4e03-8297-19dc48c4cf2c",
   "metadata": {},
   "source": [
    "# An example optimization task\n",
    "\n",
    "Imagine that you've been assigned the task to plan the route of a container ship loaded with pineapples. The ship starts in Panama, loaded with delicious Fairtrade pineapples. There are four other ports, New York, Casablanca, Amsterdam, and Helsinki, where pineapple-craving citizens are eagerly waiting. The ship must visit each of the four destination ports exactly once, but the order in which each port is visited is free. The goal is to minimize the carbon emissions, which means that a shorter route is better than a longer one.\n",
    "\n"
   ]
  },
  {
   "cell_type": "markdown",
   "id": "1e863738-497f-4e10-b962-54753f63a2f2",
   "metadata": {},
   "source": [
    "# Exercise 1: Listing pineapple routes\n",
    "\n",
    "In this exercise i need to list all the possible routes that start from Panama and visit each of the other ports exactly once.\n",
    "\n",
    "The template code below contains an incomplete permutations function which takes as input a specified route and a list of port names absent from that route."
   ]
  },
  {
   "cell_type": "code",
   "execution_count": null,
   "id": "fef2b65c-66fe-43b4-8c96-9b3c0113ca2b",
   "metadata": {
    "collapsed": true,
    "jupyter": {
     "outputs_hidden": true
    },
    "tags": []
   },
   "outputs": [
    {
     "ename": "IndentationError",
     "evalue": "expected an indented block after function definition on line 3 (2088764588.py, line 8)",
     "output_type": "error",
     "traceback": [
      "\u001b[1;36m  Input \u001b[1;32mIn [2]\u001b[1;36m\u001b[0m\n\u001b[1;33m    permutations([0], list(range(1, len(portnames))))\u001b[0m\n\u001b[1;37m    ^\u001b[0m\n\u001b[1;31mIndentationError\u001b[0m\u001b[1;31m:\u001b[0m expected an indented block after function definition on line 3\n"
     ]
    }
   ],
   "source": [
    "portnames = [\"PAN\", \"AMS\", \"CAS\", \"NYC\", \"HEL\"]\n",
    " \n",
    "def permutations(route, ports):\n",
    "    # Write your recursive code here\n",
    "\n",
    "\n",
    "# This will start the recursion with 0 (\"PAN\") as the first stop\n",
    "permutations([0], list(range(1, len(portnames))))"
   ]
  },
  {
   "cell_type": "markdown",
   "id": "fe3cfe3e-4c55-473f-a805-e475f79bce2e",
   "metadata": {},
   "source": [
    "# Solution"
   ]
  },
  {
   "cell_type": "code",
   "execution_count": 3,
   "id": "db4e050c-09f1-462c-af65-7a52cebb23ce",
   "metadata": {},
   "outputs": [
    {
     "name": "stdout",
     "output_type": "stream",
     "text": [
      "PAN AMS CAS NYC HEL\n",
      "PAN AMS CAS HEL NYC\n",
      "PAN AMS NYC CAS HEL\n",
      "PAN AMS NYC HEL CAS\n",
      "PAN AMS HEL CAS NYC\n",
      "PAN AMS HEL NYC CAS\n",
      "PAN CAS AMS NYC HEL\n",
      "PAN CAS AMS HEL NYC\n",
      "PAN CAS NYC AMS HEL\n",
      "PAN CAS NYC HEL AMS\n",
      "PAN CAS HEL AMS NYC\n",
      "PAN CAS HEL NYC AMS\n",
      "PAN NYC AMS CAS HEL\n",
      "PAN NYC AMS HEL CAS\n",
      "PAN NYC CAS AMS HEL\n",
      "PAN NYC CAS HEL AMS\n",
      "PAN NYC HEL AMS CAS\n",
      "PAN NYC HEL CAS AMS\n",
      "PAN HEL AMS CAS NYC\n",
      "PAN HEL AMS NYC CAS\n",
      "PAN HEL CAS AMS NYC\n",
      "PAN HEL CAS NYC AMS\n",
      "PAN HEL NYC AMS CAS\n",
      "PAN HEL NYC CAS AMS\n"
     ]
    }
   ],
   "source": [
    "portnames = [\"PAN\", \"AMS\", \"CAS\", \"NYC\", \"HEL\"]\n",
    " \n",
    "def permutations(route, ports):\n",
    "    # Write your recursive code here\n",
    "    if len(ports) < 1:\n",
    "        print(' '.join([portnames[i] for i in route]))\n",
    "    else:\n",
    "        for i in range(len(ports)):\n",
    "            permutations(route + [ports[i]], ports[:i] + ports[i + 1:])\n",
    "\n",
    "\n",
    "# This will start the recursion with 0 (\"PAN\") as the first stop\n",
    "permutations([0], list(range(1, len(portnames))))"
   ]
  }
 ],
 "metadata": {
  "kernelspec": {
   "display_name": "Python 3 (ipykernel)",
   "language": "python",
   "name": "python3"
  },
  "language_info": {
   "codemirror_mode": {
    "name": "ipython",
    "version": 3
   },
   "file_extension": ".py",
   "mimetype": "text/x-python",
   "name": "python",
   "nbconvert_exporter": "python",
   "pygments_lexer": "ipython3",
   "version": "3.10.4"
  }
 },
 "nbformat": 4,
 "nbformat_minor": 5
}
