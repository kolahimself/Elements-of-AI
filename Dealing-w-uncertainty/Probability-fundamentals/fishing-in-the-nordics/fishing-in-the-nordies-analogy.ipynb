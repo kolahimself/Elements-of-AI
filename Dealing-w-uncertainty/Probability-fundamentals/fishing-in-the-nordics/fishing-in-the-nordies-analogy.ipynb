{
 "cells": [
  {
   "cell_type": "code",
   "execution_count": 1,
   "id": "019111ec-74aa-4365-b660-aca6ad3984be",
   "metadata": {},
   "outputs": [],
   "source": [
    "import pandas as pd\n",
    "import numpy as np"
   ]
  },
  {
   "cell_type": "markdown",
   "id": "b243c6a0-ca2b-4089-bba8-94a4479a5a79",
   "metadata": {},
   "source": [
    "# Conditional Probability Demonstration"
   ]
  },
  {
   "cell_type": "markdown",
   "id": "6ac43cb5-59d0-4a1e-9d27-b8edd683d2b6",
   "metadata": {},
   "source": [
    "Let's start with a concrete example. According to recent OECD statistics, there are 26522652 professional fishers (though not officially recognized, we’re going to use this term as an alternative to fisherman/fisherwoman/fisherperson) employed in the fishing industry in Finland – the most \"recent\" statistics are from 2013 but this isn't important for the point being made. The total population of Finland in 2013 was 5{,}439{,}0005,439,000, so fishing employed only about 0.0490.049 percent, or fewer than one in 20002000 Finns. Meanwhile, in Norway, the number of fishers was 11{,}61111,611 out of the total population of 5{,}080{,}0005,080,000, which makes about0.2290.229 percent, about one in 438438 Norwegians. The following table contains the figures for all of the Nordic countries:"
   ]
  },
  {
   "cell_type": "code",
   "execution_count": 4,
   "id": "82370c00-30ff-4333-9a1e-3daeeb2c4893",
   "metadata": {},
   "outputs": [],
   "source": [
    "denmark = pd.Series([5615000, 1891, 0.034])\n",
    "finland = pd.Series([5439000, 2652, 0.049])\n",
    "iceland = pd.Series([324000, 3800, 1.173])\n",
    "norway = pd.Series([5080000, 11611, 0.229])\n",
    "sweden = pd.Series([9609000, 1757, 0.018])"
   ]
  },
  {
   "cell_type": "code",
   "execution_count": 7,
   "id": "aa01d306-e8d0-4321-89ef-4a43763b0814",
   "metadata": {},
   "outputs": [
    {
     "data": {
      "text/html": [
       "<div>\n",
       "<style scoped>\n",
       "    .dataframe tbody tr th:only-of-type {\n",
       "        vertical-align: middle;\n",
       "    }\n",
       "\n",
       "    .dataframe tbody tr th {\n",
       "        vertical-align: top;\n",
       "    }\n",
       "\n",
       "    .dataframe thead th {\n",
       "        text-align: right;\n",
       "    }\n",
       "</style>\n",
       "<table border=\"1\" class=\"dataframe\">\n",
       "  <thead>\n",
       "    <tr style=\"text-align: right;\">\n",
       "      <th></th>\n",
       "      <th>Denmark</th>\n",
       "      <th>Finland</th>\n",
       "      <th>Iceland</th>\n",
       "      <th>Norway</th>\n",
       "      <th>Sweden</th>\n",
       "    </tr>\n",
       "  </thead>\n",
       "  <tbody>\n",
       "    <tr>\n",
       "      <th>0</th>\n",
       "      <td>5615000.000</td>\n",
       "      <td>5439000.000</td>\n",
       "      <td>324000.000</td>\n",
       "      <td>5080000.000</td>\n",
       "      <td>9609000.000</td>\n",
       "    </tr>\n",
       "    <tr>\n",
       "      <th>1</th>\n",
       "      <td>1891.000</td>\n",
       "      <td>2652.000</td>\n",
       "      <td>3800.000</td>\n",
       "      <td>11611.000</td>\n",
       "      <td>1757.000</td>\n",
       "    </tr>\n",
       "    <tr>\n",
       "      <th>2</th>\n",
       "      <td>0.034</td>\n",
       "      <td>0.049</td>\n",
       "      <td>1.173</td>\n",
       "      <td>0.229</td>\n",
       "      <td>0.018</td>\n",
       "    </tr>\n",
       "  </tbody>\n",
       "</table>\n",
       "</div>"
      ],
      "text/plain": [
       "       Denmark      Finland     Iceland       Norway       Sweden\n",
       "0  5615000.000  5439000.000  324000.000  5080000.000  9609000.000\n",
       "1     1891.000     2652.000    3800.000    11611.000     1757.000\n",
       "2        0.034        0.049       1.173        0.229        0.018"
      ]
     },
     "execution_count": 7,
     "metadata": {},
     "output_type": "execute_result"
    }
   ],
   "source": [
    "fishing_figures = pd.DataFrame({'Denmark': denmark,\n",
    "                                'Finland': finland,\n",
    "                                'Iceland': iceland,\n",
    "                                'Norway': norway,\n",
    "                                'Sweden': sweden})\n",
    "fishing_figures"
   ]
  },
  {
   "cell_type": "code",
   "execution_count": 15,
   "id": "b39cc733-a0ca-422f-84d1-884b3682d209",
   "metadata": {},
   "outputs": [],
   "source": [
    "# Add column displaying the total\n",
    "fishing_figures['TOTAL'] = fishing_figures.Denmark + fishing_figures.Finland + fishing_figures.Iceland + fishing_figures.Norway + fishing_figures.Sweden"
   ]
  },
  {
   "cell_type": "markdown",
   "id": "4fb8a054-3b43-425b-b456-a10042d1870d",
   "metadata": {},
   "source": [
    "## Figures for All Nordic Countries"
   ]
  },
  {
   "cell_type": "code",
   "execution_count": 17,
   "id": "95ee1d37-5158-4135-9a23-c099208d7c0d",
   "metadata": {},
   "outputs": [
    {
     "data": {
      "text/html": [
       "<div>\n",
       "<style scoped>\n",
       "    .dataframe tbody tr th:only-of-type {\n",
       "        vertical-align: middle;\n",
       "    }\n",
       "\n",
       "    .dataframe tbody tr th {\n",
       "        vertical-align: top;\n",
       "    }\n",
       "\n",
       "    .dataframe thead th {\n",
       "        text-align: right;\n",
       "    }\n",
       "</style>\n",
       "<table border=\"1\" class=\"dataframe\">\n",
       "  <thead>\n",
       "    <tr style=\"text-align: right;\">\n",
       "      <th></th>\n",
       "      <th>Denmark</th>\n",
       "      <th>Finland</th>\n",
       "      <th>Iceland</th>\n",
       "      <th>Norway</th>\n",
       "      <th>Sweden</th>\n",
       "      <th>TOTAL</th>\n",
       "    </tr>\n",
       "  </thead>\n",
       "  <tbody>\n",
       "    <tr>\n",
       "      <th>0</th>\n",
       "      <td>5615000.000</td>\n",
       "      <td>5439000.000</td>\n",
       "      <td>324000.000</td>\n",
       "      <td>5080000.000</td>\n",
       "      <td>9609000.000</td>\n",
       "      <td>2.606700e+07</td>\n",
       "    </tr>\n",
       "    <tr>\n",
       "      <th>1</th>\n",
       "      <td>1891.000</td>\n",
       "      <td>2652.000</td>\n",
       "      <td>3800.000</td>\n",
       "      <td>11611.000</td>\n",
       "      <td>1757.000</td>\n",
       "      <td>2.171100e+04</td>\n",
       "    </tr>\n",
       "    <tr>\n",
       "      <th>2</th>\n",
       "      <td>0.034</td>\n",
       "      <td>0.049</td>\n",
       "      <td>1.173</td>\n",
       "      <td>0.229</td>\n",
       "      <td>0.018</td>\n",
       "      <td>1.503000e+00</td>\n",
       "    </tr>\n",
       "  </tbody>\n",
       "</table>\n",
       "</div>"
      ],
      "text/plain": [
       "       Denmark      Finland     Iceland       Norway       Sweden  \\\n",
       "0  5615000.000  5439000.000  324000.000  5080000.000  9609000.000   \n",
       "1     1891.000     2652.000    3800.000    11611.000     1757.000   \n",
       "2        0.034        0.049       1.173        0.229        0.018   \n",
       "\n",
       "          TOTAL  \n",
       "0  2.606700e+07  \n",
       "1  2.171100e+04  \n",
       "2  1.503000e+00  "
      ]
     },
     "execution_count": 17,
     "metadata": {},
     "output_type": "execute_result"
    }
   ],
   "source": [
    "fishing_figures"
   ]
  },
  {
   "cell_type": "code",
   "execution_count": 31,
   "id": "63b7a659-5b41-4b96-9ec3-0ef272d2d512",
   "metadata": {},
   "outputs": [],
   "source": [
    "p_country_list = []\n",
    "\n",
    "def p_country(dataframe):\n",
    "    for eachcountry in dataframe.columns[0:5]:\n",
    "        a = round((dataframe[str(eachcountry)].loc[0] / dataframe['TOTAL'].loc[0]) * 100, 1)\n",
    "        p_country_list.append(a)"
   ]
  },
  {
   "cell_type": "code",
   "execution_count": 33,
   "id": "e23d718e-9d22-450d-a1b7-1af9147d6bff",
   "metadata": {},
   "outputs": [],
   "source": [
    "country = pd.Series(['Denmark', 'Finland', 'Iceland', 'Norway', 'Sweden'])\n",
    "fisher_prob = pd.Series(p_country_list)"
   ]
  },
  {
   "cell_type": "code",
   "execution_count": 36,
   "id": "3238c0d8-108c-4511-b405-1e88a1343b81",
   "metadata": {},
   "outputs": [],
   "source": [
    "country_winner = pd.DataFrame({'Country': country, 'Probability of choosing a winner (%)': fisher_prob})"
   ]
  },
  {
   "cell_type": "markdown",
   "id": "d04deeda-20ac-4864-92c3-0f5c87b7ce6d",
   "metadata": {},
   "source": [
    "## Probability of Winner Being from each Country\n",
    "\n",
    "Let's imagine that we could run a lottery where we randomly choose any citizen in the Nordic countries. Since Sweden has a way bigger population than Iceland, it would be more likely that the winner is a Swede rather than an Icelander. The probability of choosing a person in a specific country can be calculated by dividing the population of the country by the total population of the Nordic countries, 26,067,000"
   ]
  },
  {
   "cell_type": "code",
   "execution_count": 37,
   "id": "8b3bec86-9c78-438e-946c-25b341640a94",
   "metadata": {},
   "outputs": [
    {
     "data": {
      "text/html": [
       "<div>\n",
       "<style scoped>\n",
       "    .dataframe tbody tr th:only-of-type {\n",
       "        vertical-align: middle;\n",
       "    }\n",
       "\n",
       "    .dataframe tbody tr th {\n",
       "        vertical-align: top;\n",
       "    }\n",
       "\n",
       "    .dataframe thead th {\n",
       "        text-align: right;\n",
       "    }\n",
       "</style>\n",
       "<table border=\"1\" class=\"dataframe\">\n",
       "  <thead>\n",
       "    <tr style=\"text-align: right;\">\n",
       "      <th></th>\n",
       "      <th>Country</th>\n",
       "      <th>Probability of choosing a winner (%)</th>\n",
       "    </tr>\n",
       "  </thead>\n",
       "  <tbody>\n",
       "    <tr>\n",
       "      <th>0</th>\n",
       "      <td>Denmark</td>\n",
       "      <td>21.5</td>\n",
       "    </tr>\n",
       "    <tr>\n",
       "      <th>1</th>\n",
       "      <td>Finland</td>\n",
       "      <td>20.9</td>\n",
       "    </tr>\n",
       "    <tr>\n",
       "      <th>2</th>\n",
       "      <td>Iceland</td>\n",
       "      <td>1.2</td>\n",
       "    </tr>\n",
       "    <tr>\n",
       "      <th>3</th>\n",
       "      <td>Norway</td>\n",
       "      <td>19.5</td>\n",
       "    </tr>\n",
       "    <tr>\n",
       "      <th>4</th>\n",
       "      <td>Sweden</td>\n",
       "      <td>36.9</td>\n",
       "    </tr>\n",
       "  </tbody>\n",
       "</table>\n",
       "</div>"
      ],
      "text/plain": [
       "   Country  Probability of choosing a winner (%)\n",
       "0  Denmark                                  21.5\n",
       "1  Finland                                  20.9\n",
       "2  Iceland                                   1.2\n",
       "3   Norway                                  19.5\n",
       "4   Sweden                                  36.9"
      ]
     },
     "execution_count": 37,
     "metadata": {},
     "output_type": "execute_result"
    }
   ],
   "source": [
    "country_winner"
   ]
  },
  {
   "cell_type": "markdown",
   "id": "655ddf86-5327-4bdd-ad50-e00d15b54c92",
   "metadata": {},
   "source": [
    "the math👆🏾\n",
    "\n",
    "`P(country) = population(country) ÷ totalpopulation`"
   ]
  },
  {
   "cell_type": "code",
   "execution_count": 58,
   "id": "e86bf9bd-eb23-4c13-a766-0e8a8c6db6f9",
   "metadata": {},
   "outputs": [],
   "source": [
    "p_fisher_list = []"
   ]
  },
  {
   "cell_type": "code",
   "execution_count": 57,
   "id": "1829bf4d-dcc8-4368-b1cd-7082ca7780d8",
   "metadata": {},
   "outputs": [],
   "source": [
    "def p_fisher(dataframe):\n",
    "    for eachcountry in dataframe.columns[0:5]:\n",
    "        a = round((dataframe[str(eachcountry)].loc[1] / dataframe['TOTAL'].loc[1]) * 100, 1)\n",
    "        p_fisher_list.append(a)"
   ]
  },
  {
   "cell_type": "code",
   "execution_count": 59,
   "id": "8d68be14-0e57-49e0-8d4d-7fc875eb28b8",
   "metadata": {},
   "outputs": [],
   "source": [
    "p_fisher(fishing_figures)"
   ]
  },
  {
   "cell_type": "code",
   "execution_count": 60,
   "id": "c657539f-97fb-46c5-ab18-baa071dc0422",
   "metadata": {},
   "outputs": [],
   "source": [
    "fish_winner = pd.Series(p_fisher_list)\n",
    "\n",
    "fish_prob = pd.DataFrame({'Country': country, 'Probability of choosing a winner (%)': fish_winner})"
   ]
  },
  {
   "cell_type": "markdown",
   "id": "eecd4b5f-ba22-4205-bc2f-94ba33f94a05",
   "metadata": {},
   "source": [
    "## Probability of Winner Being from a Country & turns out to be a Fisher\n",
    "\n",
    "What if we were told that the winner has been chosen and that he or she turns out to be a fisher? The chances of the winner being from a specific country can now be calculated by dividing the number of fishers in the country by the total number of fishers in all of the above countries, which is 21,711. The probabilities of the winner being a citizen of a certain country, given that the winner makes their living in fishing, look quite different from the probabilities of the winner being a citizen of the same country without specifying whether they are a fisher or not:"
   ]
  },
  {
   "cell_type": "code",
   "execution_count": 61,
   "id": "db857842-7435-4594-93b3-6a70deda2c7f",
   "metadata": {},
   "outputs": [
    {
     "data": {
      "text/html": [
       "<div>\n",
       "<style scoped>\n",
       "    .dataframe tbody tr th:only-of-type {\n",
       "        vertical-align: middle;\n",
       "    }\n",
       "\n",
       "    .dataframe tbody tr th {\n",
       "        vertical-align: top;\n",
       "    }\n",
       "\n",
       "    .dataframe thead th {\n",
       "        text-align: right;\n",
       "    }\n",
       "</style>\n",
       "<table border=\"1\" class=\"dataframe\">\n",
       "  <thead>\n",
       "    <tr style=\"text-align: right;\">\n",
       "      <th></th>\n",
       "      <th>Country</th>\n",
       "      <th>Probability of choosing a winner (%)</th>\n",
       "    </tr>\n",
       "  </thead>\n",
       "  <tbody>\n",
       "    <tr>\n",
       "      <th>0</th>\n",
       "      <td>Denmark</td>\n",
       "      <td>8.7</td>\n",
       "    </tr>\n",
       "    <tr>\n",
       "      <th>1</th>\n",
       "      <td>Finland</td>\n",
       "      <td>12.2</td>\n",
       "    </tr>\n",
       "    <tr>\n",
       "      <th>2</th>\n",
       "      <td>Iceland</td>\n",
       "      <td>17.5</td>\n",
       "    </tr>\n",
       "    <tr>\n",
       "      <th>3</th>\n",
       "      <td>Norway</td>\n",
       "      <td>53.5</td>\n",
       "    </tr>\n",
       "    <tr>\n",
       "      <th>4</th>\n",
       "      <td>Sweden</td>\n",
       "      <td>8.1</td>\n",
       "    </tr>\n",
       "  </tbody>\n",
       "</table>\n",
       "</div>"
      ],
      "text/plain": [
       "   Country  Probability of choosing a winner (%)\n",
       "0  Denmark                                   8.7\n",
       "1  Finland                                  12.2\n",
       "2  Iceland                                  17.5\n",
       "3   Norway                                  53.5\n",
       "4   Sweden                                   8.1"
      ]
     },
     "execution_count": 61,
     "metadata": {},
     "output_type": "execute_result"
    }
   ],
   "source": [
    "fish_prob"
   ]
  },
  {
   "cell_type": "markdown",
   "id": "6e54b8bc-c78d-437d-a264-8eb1b2e84d63",
   "metadata": {},
   "source": [
    "### Q1 \n",
    "What is the probability that the winner is a fisher given that they are Norwegian? \n",
    "\n",
    "Be mindful of the innocent sounding distinction between the probability of X given Y and the probability of Y given X."
   ]
  },
  {
   "cell_type": "code",
   "execution_count": 70,
   "id": "fd56ba99-0175-4e75-93fb-063fe440d7b8",
   "metadata": {},
   "outputs": [],
   "source": [
    "q1 = fishing_figures.Norway[1]/fishing_figures.Norway[0]  * 100"
   ]
  },
  {
   "cell_type": "code",
   "execution_count": 72,
   "id": "616019c5-26fc-4566-9e0b-e0a726f78b59",
   "metadata": {},
   "outputs": [
    {
     "name": "stdout",
     "output_type": "stream",
     "text": [
      "The probability that the winner is a fisher and a norwegian is 0.229%\n"
     ]
    }
   ],
   "source": [
    "print(f'The probability that the winner is a fisher and a norwegian is {round(q1, 3)}%')"
   ]
  },
  {
   "cell_type": "markdown",
   "id": "0a123247-b20b-4095-bf51-5df24da179c8",
   "metadata": {},
   "source": [
    "### Q2\n",
    "Write a program that uses statistics about the population and fishing industry employment to print out conditional probabilities of each nationality given that the winner works in the fishing industry.\n",
    "\n",
    "The data is given in lists containing the population and the number of fishers in each country."
   ]
  },
  {
   "cell_type": "code",
   "execution_count": 115,
   "id": "2ec7b870-4209-4659-b3d9-8746f47e8528",
   "metadata": {},
   "outputs": [],
   "source": [
    "import numpy as np\n",
    "\n",
    "countries = ['Denmark', 'Finland', 'Iceland', 'Norway', 'Sweden']\n",
    "populations = np.array([5615000, 5439000, 324000, 5080000, 9609000])\n",
    "fishers = np.array([1891, 2652, 3800, 11611, 1757])\n",
    "\n",
    "total_fishers = sum(fishers)\n",
    "total_population = sum(populations)\n",
    "\n",
    "\n",
    "# write your solution here\n",
    "population = (fishers/total_fishers) * 100"
   ]
  },
  {
   "cell_type": "code",
   "execution_count": 116,
   "id": "4d66d417-172c-49aa-9f98-8f71606bcc51",
   "metadata": {},
   "outputs": [
    {
     "name": "stdout",
     "output_type": "stream",
     "text": [
      "Denmark 8.71%\n",
      "Finland 12.22%\n",
      "Iceland 17.50%\n",
      "Norway 53.48%\n",
      "Sweden 8.09%\n"
     ]
    }
   ],
   "source": [
    "for country, population in zip(countries, population):\n",
    "    print(\"%s %.2f%%\" % (country, population)) # modify this to print correct results"
   ]
  },
  {
   "cell_type": "code",
   "execution_count": null,
   "id": "97bb718f-4185-43c8-a669-9d255ca0fedc",
   "metadata": {},
   "outputs": [],
   "source": []
  }
 ],
 "metadata": {
  "kernelspec": {
   "display_name": "Python 3 (ipykernel)",
   "language": "python",
   "name": "python3"
  },
  "language_info": {
   "codemirror_mode": {
    "name": "ipython",
    "version": 3
   },
   "file_extension": ".py",
   "mimetype": "text/x-python",
   "name": "python",
   "nbconvert_exporter": "python",
   "pygments_lexer": "ipython3",
   "version": "3.10.4"
  }
 },
 "nbformat": 4,
 "nbformat_minor": 5
}
