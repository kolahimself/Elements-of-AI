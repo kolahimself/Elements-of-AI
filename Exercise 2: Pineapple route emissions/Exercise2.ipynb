{
 "cells": [
  {
   "cell_type": "markdown",
   "id": "b0c1376d-d1ef-4ec9-be74-73d5b15e358b",
   "metadata": {},
   "source": [
    "# Exercise 2: Pineapple route emissions\n",
    "\n",
    "Building on the previous solution, modify the code so that it finds the route with minimum carbon emissions and prints it out. Again, the program should work for any number of ports. You can assume that the distances between the ports are given in an array of the appropriate size so that the distance between ports i and j is found in D[i][j]."
   ]
  },
  {
   "cell_type": "code",
   "execution_count": null,
   "id": "46b01a63-7efc-460d-84fc-503e3edb3dd9",
   "metadata": {},
   "outputs": [],
   "source": [
    "portnames = [\"PAN\", \"AMS\", \"CAS\", \"NYC\", \"HEL\"]\n",
    "\n",
    "# https://sea-distances.org/\n",
    "# nautical miles converted to km\n",
    "\n",
    "D = [\n",
    "        [0,8943,8019,3652,10545],\n",
    "        [8943,0,2619,6317,2078],\n",
    "        [8019,2619,0,5836,4939],\n",
    "        [3652,6317,5836,0,7825],\n",
    "        [10545,2078,4939,7825,0]\n",
    "    ]\n",
    "\n",
    "# https://timeforchange.org/co2-emissions-shipping-goods\n",
    "# assume 20g per km per metric ton (of pineapples)\n",
    "\n",
    "co2 = 0.020\n",
    "\n",
    "# DATA BLOCK ENDS\n",
    "\n",
    "# these variables are initialised to nonsensical values\n",
    "# your program should determine the correct values for them\n",
    "smallest = 1000000\n",
    "bestroute = [0, 0, 0, 0, 0]\n",
    "\n",
    "def permutations(route, ports):\n",
    "    # write the recursive function here\n",
    "    # remember to calculate the emissions of the route as the recursion ends\n",
    "    # and keep track of the route with the lowest emissions\n",
    "    pass\n",
    "\n",
    "def main():\n",
    "    # Do not edit any (global) variables using this function, as it will mess up the testing\n",
    "\n",
    "    # this will start the recursion \n",
    "    permutations([0], list(range(1, len(portnames))))\n",
    "\n",
    "    # print the best route and its emissions\n",
    "    print(' '.join([portnames[i] for i in bestroute]) + \" %.1f kg\" % smallest)\n",
    "\n",
    "main()"
   ]
  },
  {
   "cell_type": "markdown",
   "id": "6732dcd4-4263-4ba0-a3f6-a345195ad383",
   "metadata": {},
   "source": [
    "# Solution\n",
    "\n"
   ]
  },
  {
   "cell_type": "code",
   "execution_count": 2,
   "id": "0600b416-a1d5-47ca-a18d-103508bbf306",
   "metadata": {},
   "outputs": [
    {
     "name": "stdout",
     "output_type": "stream",
     "text": [
      "PAN NYC CAS AMS HEL 283.7 kg\n"
     ]
    }
   ],
   "source": [
    "portnames = [\"PAN\", \"AMS\", \"CAS\", \"NYC\", \"HEL\"]\n",
    "\n",
    "# https://sea-distances.org/\n",
    "# nautical miles converted to km\n",
    "\n",
    "D = [\n",
    "    [0, 8943, 8019, 3652, 10545],\n",
    "    [8943, 0, 2619, 6317, 2078],\n",
    "    [8019, 2619, 0, 5836, 4939],\n",
    "    [3652, 6317, 5836, 0, 7825],\n",
    "    [10545, 2078, 4939, 7825, 0]\n",
    "]\n",
    "\n",
    "# https://timeforchange.org/co2-emissions-shipping-goods\n",
    "# assume 20g per km per metric ton (of pineapples)\n",
    "\n",
    "co2 = 0.020\n",
    "\n",
    "# DATA BLOCK ENDS\n",
    "\n",
    "# these variables are initialised to nonsensical values\n",
    "# your program should determine the correct values for them\n",
    "smallest = 1000000\n",
    "best_route = [0, 0, 0, 0, 0]\n",
    "\n",
    "\n",
    "def permutations(route, ports):\n",
    "    global smallest, best_route\n",
    "    # write the recursive function here\n",
    "    # remember to calculate the emissions of the route as the recursion ends\n",
    "    # and keep track of the route with the lowest emissions\n",
    "    if len(ports) < 1:\n",
    "        count = D[0][route[1]]\n",
    "        count += D[route[1]][route[2]]\n",
    "        count += D[route[2]][route[3]]\n",
    "        count += D[route[3]][route[4]]\n",
    "        if count < smallest:\n",
    "            smallest = count\n",
    "            best_route = route\n",
    "    else:\n",
    "        for i in range(len(ports)):\n",
    "            permutations(route + [ports[i]], ports[:i] + ports[i + 1:])\n",
    "\n",
    "    pass\n",
    "\n",
    "\n",
    "def main():\n",
    "    global smallest\n",
    "    # Do not edit any (global) variables using this function, as it will mess up the testing\n",
    "\n",
    "    # this will start the recursion\n",
    "    permutations([0], list(range(1, len(portnames))))\n",
    "    smallest = smallest * co2\n",
    "    # print the best route and its emissions\n",
    "    print(' '.join([portnames[i] for i in best_route]) + \" %.1f kg\" % smallest)\n",
    "\n",
    "\n",
    "main()"
   ]
  }
 ],
 "metadata": {
  "kernelspec": {
   "display_name": "Python 3 (ipykernel)",
   "language": "python",
   "name": "python3"
  },
  "language_info": {
   "codemirror_mode": {
    "name": "ipython",
    "version": 3
   },
   "file_extension": ".py",
   "mimetype": "text/x-python",
   "name": "python",
   "nbconvert_exporter": "python",
   "pygments_lexer": "ipython3",
   "version": "3.10.4"
  }
 },
 "nbformat": 4,
 "nbformat_minor": 5
}
