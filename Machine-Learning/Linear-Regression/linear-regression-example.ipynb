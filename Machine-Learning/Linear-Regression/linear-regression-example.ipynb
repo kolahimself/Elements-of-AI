{
 "cells": [
  {
   "cell_type": "markdown",
   "id": "f0c08fbc-caec-4543-980d-927fee928df5",
   "metadata": {},
   "source": [
    "Below you'll find a simple program that produces predictions about cabin prices. (Disclaimer: The program is meant for demonstration purposes only. Don't blame us if you lose money by trusting its predictions!) You can modify the input values to get predictions for different cabins.\n",
    "\n",
    "The cabin details, namely size (66 m^266m \n",
    "2\n",
    " ), size of the sauna (5 m^25m \n",
    "2\n",
    " ), distance to water (15 m15m), number of indoor toilets (22) and the proximity of the nearest neighbour (500 m500m) are specified as the elements of the list xx. The corresponding coefficients are specified in the list cc. The elements of the list xx are the inputs x_1x \n",
    "1\n",
    "​\n",
    " , ..., and x_5x \n",
    "5\n",
    "​\n",
    " , while the elements of cc are the coefficients c_1c \n",
    "1\n",
    "​\n",
    " , ..., c_5c \n",
    "5\n",
    "​\n",
    " . Note that in this example we don't use the intercept term."
   ]
  },
  {
   "cell_type": "code",
   "execution_count": 1,
   "id": "da1c6a5f-dd16-4037-a0b8-481e79cd53ec",
   "metadata": {},
   "outputs": [
    {
     "name": "stdout",
     "output_type": "stream",
     "text": [
      "258250\n"
     ]
    }
   ],
   "source": [
    "# input values for one mökkis: size, size of sauna, distance to water, number of indoor bathrooms, \n",
    "# proximity of neighbours\n",
    "\n",
    "x = [66, 5, 15, 2, 500]\n",
    "c = [3000, 200 , -50, 5000, 100]     # coefficient values\n",
    "\n",
    "prediction = c[0]*x[0] + c[1]*x[1] + c[2]*x[2] + c[3]*x[3] + c[4]*x[4]\n",
    "\n",
    "print(prediction)"
   ]
  },
  {
   "cell_type": "code",
   "execution_count": 4,
   "id": "347f6a98-4505-4c76-beec-28ffa3ea4514",
   "metadata": {},
   "outputs": [
    {
     "name": "stdout",
     "output_type": "stream",
     "text": [
      "258250\n"
     ]
    }
   ],
   "source": [
    "# My try\n",
    "import numpy as np\n",
    "\n",
    "x = np.array(x)\n",
    "c = np.array(c)  # Coeficient values\n",
    "\n",
    "prediction = np.sum(np.multiply(x, c))\n",
    "\n",
    "print(prediction)"
   ]
  }
 ],
 "metadata": {
  "kernelspec": {
   "display_name": "Python 3 (ipykernel)",
   "language": "python",
   "name": "python3"
  },
  "language_info": {
   "codemirror_mode": {
    "name": "ipython",
    "version": 3
   },
   "file_extension": ".py",
   "mimetype": "text/x-python",
   "name": "python",
   "nbconvert_exporter": "python",
   "pygments_lexer": "ipython3",
   "version": "3.10.4"
  }
 },
 "nbformat": 4,
 "nbformat_minor": 5
}
