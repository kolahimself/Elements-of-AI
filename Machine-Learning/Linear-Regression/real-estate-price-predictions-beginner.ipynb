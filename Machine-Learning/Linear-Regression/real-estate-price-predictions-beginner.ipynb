{
 "cells": [
  {
   "cell_type": "code",
   "execution_count": 1,
   "id": "eeb46061-f72e-41e3-aa06-95a08bd9cd48",
   "metadata": {},
   "outputs": [
    {
     "name": "stdout",
     "output_type": "stream",
     "text": [
      "213250\n"
     ]
    }
   ],
   "source": [
    "# input values for one mökkis: size, size of sauna, distance to water, number of indoor bathrooms, \n",
    "# proximity of neighbours\n",
    "\n",
    "x = [66, 5, 15, 2, 50]\n",
    "c = [3000, 200 , -50, 5000, 100]     # coefficient values\n",
    "\n",
    "prediction = c[0]*x[0] + c[1]*x[1] + c[2]*x[2] + c[3]*x[3] + c[4]*x[4]\n",
    "\n",
    "print(prediction)"
   ]
  },
  {
   "cell_type": "code",
   "execution_count": 3,
   "id": "9953cbd6-f0b8-4999-b972-af6d046ceef5",
   "metadata": {},
   "outputs": [],
   "source": [
    "import numpy as np"
   ]
  },
  {
   "cell_type": "code",
   "execution_count": 4,
   "id": "4128e829-1959-44ec-8c25-b3f60fe6a9d8",
   "metadata": {},
   "outputs": [
    {
     "name": "stdout",
     "output_type": "stream",
     "text": [
      "271250\n"
     ]
    }
   ],
   "source": [
    "# My try I\n",
    "\n",
    "x = np.array([85, 10, 15, 1, 100])\n",
    "c = np.array(c)  # Coeficient values\n",
    "\n",
    "prediction = np.sum(np.multiply(x, c))\n",
    "\n",
    "print(prediction)"
   ]
  },
  {
   "cell_type": "code",
   "execution_count": 5,
   "id": "f39ef717-d6fc-406d-a29a-eaeae75239c8",
   "metadata": {},
   "outputs": [
    {
     "name": "stdout",
     "output_type": "stream",
     "text": [
      "492750\n"
     ]
    }
   ],
   "source": [
    "# My try II\n",
    "import numpy as np\n",
    "\n",
    "x = np.array([155, 15, 5, 1, 200])\n",
    "c = np.array(c)  # Coeficient values\n",
    "\n",
    "prediction = np.sum(np.multiply(x, c))\n",
    "\n",
    "print(prediction)"
   ]
  },
  {
   "cell_type": "code",
   "execution_count": 6,
   "id": "76100b85-5b27-4f42-b8fc-b4b597081347",
   "metadata": {},
   "outputs": [],
   "source": [
    "def try_3():\n",
    "    global c\n",
    "    \n",
    "    x = np.array([66, 5, 10, 3, 500])\n",
    "    prediction = np.sum(x * c)\n",
    "    \n",
    "    return prediction"
   ]
  },
  {
   "cell_type": "code",
   "execution_count": 7,
   "id": "70df7fd3-6726-47c9-a6a0-bd90035e6f41",
   "metadata": {},
   "outputs": [],
   "source": [
    "def try_4():\n",
    "    global c\n",
    "    \n",
    "    x = np.array([76, 5, 10, 3, 600])\n",
    "    prediction = np.sum(x * c)\n",
    "    \n",
    "    return prediction    "
   ]
  },
  {
   "cell_type": "code",
   "execution_count": 8,
   "id": "42e9d3bf-1cf1-4cab-b792-ea94dff51661",
   "metadata": {},
   "outputs": [
    {
     "name": "stdout",
     "output_type": "stream",
     "text": [
      "Being 10 square metres larger and having a proximity increase of 100m increases the price of a cabin more\n"
     ]
    }
   ],
   "source": [
    "if try_3() > try_4():\n",
    "    print('Being 10m closer to a lake and having one more bathroom toilet increases the price of a cabin more')\n",
    "else:\n",
    "    print('Being 10 square metres larger and having a proximity increase of 100m increases the price of a cabin more')"
   ]
  },
  {
   "cell_type": "code",
   "execution_count": null,
   "id": "0b06657b-4ecb-448b-b4b5-f70420961d0a",
   "metadata": {},
   "outputs": [],
   "source": []
  }
 ],
 "metadata": {
  "kernelspec": {
   "display_name": "Python 3 (ipykernel)",
   "language": "python",
   "name": "python3"
  },
  "language_info": {
   "codemirror_mode": {
    "name": "ipython",
    "version": 3
   },
   "file_extension": ".py",
   "mimetype": "text/x-python",
   "name": "python",
   "nbconvert_exporter": "python",
   "pygments_lexer": "ipython3",
   "version": "3.10.4"
  }
 },
 "nbformat": 4,
 "nbformat_minor": 5
}
